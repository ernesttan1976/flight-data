{
 "cells": [
  {
   "cell_type": "code",
   "execution_count": null,
   "id": "d691c7e4",
   "metadata": {},
   "outputs": [],
   "source": [
    "# !python -m venv venv\n",
    "# # !venv/scripts/activate\n",
    "!pip install pandas numpy matplotlib seaborn plotly geopandas scipy scikit-learn statsmodels requests streamlit streamlit_jupyter SQLAlchemy psycopg2-binary pyspark"
   ]
  },
  {
   "cell_type": "code",
   "execution_count": null,
   "id": "c7ee0f9f",
   "metadata": {},
   "outputs": [],
   "source": [
    "# Data Manipulation\n",
    "import pandas as pd\n",
    "import numpy as np\n",
    "\n",
    "# Data Visualization\n",
    "import matplotlib.pyplot as plt\n",
    "import seaborn as sns\n",
    "import plotly.express as px\n",
    "import geopandas as gpd\n",
    "\n",
    "# Scientific Computing\n",
    "import scipy\n",
    "\n",
    "# Machine Learning\n",
    "import sklearn\n",
    "\n",
    "# Statistical Models\n",
    "import statsmodels.api as sm\n",
    "\n",
    "import requests\n",
    "import os\n",
    "\n",
    "import datetime as dt\n",
    "import time\n",
    "# from sqlalchemy import create_engine\n",
    "# import psycopg2\n",
    "\n",
    "from pyspark.context import SparkContext\n",
    "from pyspark.sql import SparkSession\n",
    "\n",
    "import streamlit as st\n",
    "from streamlit_jupyter import StreamlitPatcher, tqdm\n",
    "StreamlitPatcher().jupyter()\n",
    "\n",
    "pd.set_option('display.max_columns', None)\n",
    "\n",
    "st.title(\"Exploratory Data Analysis for GPS Jamming\")"
   ]
  },
  {
   "cell_type": "code",
   "execution_count": null,
   "id": "eef9ae55",
   "metadata": {},
   "outputs": [],
   "source": [
    "'''df = pd.read_json(os.path.join('aircraft_data_2024-02-01','aircraft_data_2024-02-01.json')\n",
    "df = pd.json_normalize(df['aircraft'])\n",
    "df'''"
   ]
  },
  {
   "cell_type": "code",
   "execution_count": null,
   "id": "b207dbb7-886c-40c7-810f-ad709e62dd8b",
   "metadata": {
    "scrolled": true
   },
   "outputs": [],
   "source": [
    "# for each timeslice of 5 minutes, find the aircraft-ping with nac_p, nac_v above a certain threshold, \n",
    "# and gpsOkBefore, rr_lat, rr_lon if these values are not empty\n",
    "# (each timeslice is 800kb)\n",
    "#\n",
    "# after filtering the timeslice, the filtered data should be much smaller say 10 kb\n",
    "#\n",
    "# define array of locations (squares) according to lat and lon limits\n",
    "# \n",
    "# loop through all timeslice-aircraft-ping and find location and append\n",
    "# \n",
    "# loop through all locations and run the data through the classification function to determine the color\n",
    "\n",
    "# url = 'https://samples.adsbexchange.com/readsb-hist/2024/02/01/000000Z.json.gz'\n",
    "# response = requests.get(url)\n",
    "# json_data = response.json()\n",
    "# print(json_data['now'])\n",
    "# print(json_data['messages'])\n",
    "# df1 = pd.json_normalize(json_data['aircraft'])\n"
   ]
  },
  {
   "cell_type": "code",
   "execution_count": null,
   "id": "baf710aa-81de-47be-a841-db627b34fbbe",
   "metadata": {},
   "outputs": [],
   "source": [
    "# spark = SparkSession.builder.getOrCreate()\n",
    "spark = SparkSession.builder.appName(\"GPS Jamming\").config(\"spark.memory.offHeap.enabled\",\"true\").config(\"spark.memory.offHeap.size\",\"10g\").getOrCreate()\n",
    "spark.catalog.listTables()"
   ]
  },
  {
   "cell_type": "code",
   "execution_count": null,
   "id": "1d957465-e2f1-464b-a025-282c81c00109",
   "metadata": {},
   "outputs": [],
   "source": [
    "spark.sql(\"DROP TABLE flight_data\")"
   ]
  },
  {
   "cell_type": "code",
   "execution_count": null,
   "id": "6f9f1e91-4d43-4e2f-afba-774064c27fc3",
   "metadata": {
    "scrolled": true
   },
   "outputs": [],
   "source": [
    "def time_elapsed(start_time):\n",
    "    end_time = time.time()\n",
    "    return end_time - start_time\n",
    "\n",
    "def read_data(start_date_time,end_date_time):\n",
    "    delta = dt.timedelta(seconds=5)\n",
    "    start = start_date_time\n",
    "    while start <= end_date_time:\n",
    "        # print(start.strftime(\"%Y/%m/%dT%H%M%SZ\"))\n",
    "        start_time = time.time()\n",
    "        \n",
    "        url = f'https://samples.adsbexchange.com/readsb-hist/{start.strftime(\"%Y/%m/%d\")}/{start.strftime(\"%H%M%S\")}Z.json.gz'\n",
    "        print(url)\n",
    "    \n",
    "        response = requests.get(url)\n",
    "        json_data = response.json()\n",
    "\n",
    "        print(f\"(1): {time_elapsed(start_time)}s\")\n",
    "        start_time = time.time()\n",
    "        \n",
    "        utc_time = dt.datetime.utcfromtimestamp(json_data['now'])\n",
    "        df = pd.json_normalize(json_data['aircraft'])\n",
    "    \n",
    "        # Create a new column for the primary key\n",
    "        df['time'] = utc_time.strftime('%Y%m%dT%H%M%S')\n",
    "        df = df.fillna(\"Nan values\")\n",
    "        df = df.applymap(lambda x: ', '.join(x) if isinstance(x, list) else x)\n",
    "        \n",
    "        spark_df = spark.createDataFrame(df)\n",
    "\n",
    "        # Examine the tables in the catalog\n",
    "        # print(spark.catalog.listTables())\n",
    "\n",
    "        # Add spark_temp to the catalog\n",
    "        # spark_df.DataFrameWriter.insertInto(\"flight_data\", overwrite=None)\n",
    "        spark_df.write.saveAsTable(\"flight_data\", format=None, mode=\"append\")\n",
    "        start += delta\n",
    "\n",
    "read_data(dt.datetime(2024,2,1,0,2,0),dt.datetime(2024,2,1,0,10,0))\n",
    "spark_df = spark.read.table(\"flight_data\")\n",
    "df1 = spark_df.toPandas()\n",
    "df1\n"
   ]
  },
  {
   "cell_type": "code",
   "execution_count": null,
   "id": "18977bac-e989-4d3f-83ef-07f7b2c18756",
   "metadata": {},
   "outputs": [],
   "source": [
    "print(f\"List all type with counts {df1['type'].value_counts()}\")\n",
    "# List all type with counts type\n",
    "# adsb_icao         9145 - messages from a Mode S or ADS-B transponder, using a 24-bit ICAO address\n",
    "# other              725 - IGNORE miscellaneous data received via Basestation / SBS format, quality / source is unknown.\n",
    "# adsb_icao_nt       524 - IGNORE - messages from an ADS-B equipped “non-transponder” emitter e.g. a ground vehicle, using a 24-bit ICAO address\n",
    "# mode_s             515 - ModeS data from the planes transponder (no position transmitted)\n",
    "# adsr_icao          280 - rebroadcast of ADS-B messages originally sent via another data link e.g. UAT, using a 24-bit ICAO address\n",
    "# tisb_other         256 - traffic information about a non-ADS-B target using a non-ICAO address\n",
    "# tisb_trackfile     214 - traffic information about a non-ADS-B target using a track/file identifier, typically from primary or Mode A/C radar\n",
    "# mlat               116 - MLAT, position calculated arrival time differences using multiple receivers, outliers and varying accuracy is expected.\n",
    "# unknown             49\n",
    "# tisb_icao           31 - traffic information about a non-ADS-B target identified by a 24-bit ICAO address, e.g. a Mode S target tracked by secondary radar\n",
    "# adsb_other          17 - messages from an ADS-B transponder using a non-ICAO address, e.g. anonymized address\n",
    "plt.hist(df1['type'], align='left')\n",
    "plt.title('type')\n",
    "plt.xticks(rotation='vertical')\n",
    "plt.show()"
   ]
  },
  {
   "cell_type": "code",
   "execution_count": null,
   "id": "a48ad6fe",
   "metadata": {},
   "outputs": [],
   "source": [
    "\n",
    "df1_filtered = df1[df1[['nac_p','nac_v']].notnull().all(1)]\n",
    "nacp_high = df1_filtered[df1_filtered['nac_p']<8]\n",
    "nacp_high\n",
    "# rr_lat not null\n",
    "# rr_lon not null\n",
    "# lastPosition.lat / lastPosition.lon not null"
   ]
  },
  {
   "cell_type": "code",
   "execution_count": null,
   "id": "cb594aeb-9bcb-4c6d-b8b9-198fe0fe03c3",
   "metadata": {},
   "outputs": [],
   "source": [
    "print(f\"List all ADSB versions with counts {df1['version'].value_counts()}\")\n",
    "# version: ADS-B Version Number 0, 1, 2 (3-7 are reserved) (2.2.3.2.7.5)\n",
    "# List all ADSB versions with counts version\n",
    "# 2.0    8881\n",
    "# 0.0    1119\n",
    "# 1.0     141\n",
    "plt.hist(df1['version'])\n",
    "plt.title('version')\n",
    "plt.show()"
   ]
  },
  {
   "cell_type": "code",
   "execution_count": null,
   "id": "41f79248-50fe-4aba-8aaa-f752fdaff139",
   "metadata": {},
   "outputs": [],
   "source": [
    "# nac_p: Navigation Accuracy for Position (2.2.5.1.35)\n",
    "counts = df1['nac_p'].value_counts()\n",
    "print(f\"List all nac_p values with counts {counts}\")\n",
    "plt.hist(df1['nac_p'])\n",
    "plt.title('nac_p')\n",
    "plt.show()"
   ]
  },
  {
   "cell_type": "code",
   "execution_count": null,
   "id": "64370da9-6ac8-4082-bfc7-42f4ca487c2c",
   "metadata": {},
   "outputs": [],
   "source": [
    "# nac_v: Navigation Accuracy for Velocity (2.2.5.1.19)\n",
    "counts = df1['nac_v'].value_counts()\n",
    "print(f\"List all nac_v values with counts {counts}\")\n",
    "plt.hist(df1['nac_v'])\n",
    "plt.title('nac_v')\n",
    "plt.show()"
   ]
  },
  {
   "cell_type": "code",
   "execution_count": null,
   "id": "50127be1-8b8d-4b58-be77-e07329216fed",
   "metadata": {},
   "outputs": [],
   "source": [
    "# roll: Roll, degrees, negative is left roll\n",
    "counts = df1['roll'].value_counts()\n",
    "print(f\"List all roll with counts {counts}\")\n",
    "plt.hist(df1['roll'], align='left')\n",
    "plt.title('roll')\n",
    "plt.show()"
   ]
  },
  {
   "cell_type": "code",
   "execution_count": null,
   "id": "d1fc97be",
   "metadata": {},
   "outputs": [],
   "source": [
    "# category: emitter category to identify particular aircraft or vehicle classes (values A0 – D7) (2.2.3.2.5.2)\n",
    "counts = df1['category'].dropna()\n",
    "# print(f\"List all category with counts {counts}\")\n",
    "plt.hist(counts)\n",
    "plt.title('category')\n",
    "plt.show()\n",
    "# A0 : No ADS-B emitter category information. Do not use this emitter category. If no emitter category fits your installation, seek guidance from the FAA as appropriate. A1 : Light (< 15500 lbs) – Any airplane with a maximum takeoff weight less than 15,500 pounds. This includes very light aircraft (light sport aircraft) that do not meet the requirements of 14 CFR § 103.1.\n",
    "# A2 : Small (15500 to 75000 lbs) – Any airplane with a maximum takeoff weight greater than or equal to15,500 pounds but less than 75,000 pounds.\n",
    "# A3 : Large (75000 to 300000 lbs) – Any airplane with a maximum takeoff weight greater than or equal to 75,000 pounds but less than 300,000 pounds that does not qualify for the high vortex category.\n",
    "# A4 :  High vortex large (aircraft such as B-757) – Any airplane with a maximum takeoff weight greater than or equal to 75,000 pounds but less than 300,000 pounds that has been determined to generate a high wake vortex. Currently, the Boeing 757 is the only example.\n",
    "# A5 : Heavy (> 300000 lbs) – Any airplane with a maximum takeoff weight equal to or above 300,000 pounds.\n",
    "# A6 : High performance (> 5g acceleration and 400 kts) – Any airplane, regardless of weight, which can maneuver in excess of 5 G’s and maintain true airspeed above 400 knots.\n",
    "# A7 : Rotorcraft – Any rotorcraft regardless of weight.\n",
    "# B0 : No ADS-B emitter category information\n",
    "# B1 : Glider / sailplane – Any glider or sailplane regardless of weight.\n",
    "# B2 : Lighter-than-air – Any lighter than air (airship or balloon) regardless of weight.\n",
    "# B3 : Parachutist / skydiver\n",
    "# B4 : Ultralight / hang-glider / paraglider – A vehicle that meets the requirements of 14 CFR § 103.1. Light sport aircraft should not use the ultralight emitter category unless they meet 14 CFR § 103.1.\n",
    "# B5 : Reserved\n",
    "# B6 : Unmanned aerial vehicle – Any unmanned aerial vehicle or unmanned aircraft system regardless of weight.\n",
    "# B7 : Space / trans-atmospheric vehicle\n",
    "# C0 : No ADS-B emitter category information\n",
    "# C1 : Surface vehicle – emergency vehicle\n",
    "# C2 : Surface vehicle – service vehicle\n",
    "# C3 : Point obstacle (includes tethered balloons)\n",
    "# C4 : Cluster obstacle\n",
    "# C5 : Line obstacle\n",
    "# C6 : Reserved\n",
    "# C7 : Reserved"
   ]
  },
  {
   "cell_type": "code",
   "execution_count": null,
   "id": "35defa61-e52e-4542-bc9d-6ad8e9ed37f0",
   "metadata": {},
   "outputs": [],
   "source": [
    "# Change in NIC/NAC/SIL indicates an anomaly, which may be due to any reason\n",
    "\n",
    "# nic: Navigation Integrity Category (2.2.3.2.7.2.6)\n",
    "# Table 1: NIC value and corresponding size of containment radius\n",
    "# NIC Containment Radius\n",
    "# 0 Unknown\n",
    "# 1 Rc < 37.04km (20nm)\n",
    "# 2 Rc < 14.816km (8nm)\n",
    "# 3 Rc < 7.408km (4nm)\n",
    "# 4 Rc < 3.704km (2nm)\n",
    "# 5 Rc < 1852m (1nm)\n",
    "# 6 Rc < 1111.2m (0.6nm)\n",
    "# Rc < 926m (0.5nm)\n",
    "# Rc < 555.6m (0.3nm)\n",
    "# 7 Rc < 370.4m (0.2nm)\n",
    "# 8 Rc < 185.2m (0.1nm)\n",
    "# 9 Rc < 75m\n",
    "# 10 Rc < 25m\n",
    "# 11 Rc < 7.5m\n",
    "\n",
    "# Assuming you have already calculated the counts\n",
    "counts = df1['nic'].value_counts(dropna=False)\n",
    "print(f\"List all nic values with counts {counts}\")\n",
    "# Create bins for the histogram\n",
    "bins = np.arange(len(counts) + 1)\n",
    "\n",
    "# Plot the histogram with NA on the left\n",
    "plt.hist(df1['nic'], bins=bins, align='left',rwidth=0.5)\n",
    "plt.yscale('log')\n",
    "plt.title('nic')\n",
    "plt.show()"
   ]
  },
  {
   "cell_type": "code",
   "execution_count": null,
   "id": "3bad7bec-4363-4d1b-8ada-ae8090384b2d",
   "metadata": {},
   "outputs": [],
   "source": [
    "counts = df1['sil'].value_counts(dropna=False)\n",
    "\n",
    "print(f\"List all sil values with counts {counts}\")\n",
    "# Create bins for the histogram\n",
    "bins = np.arange(len(counts) + 1)\n",
    "\n",
    "# Plot the histogram with NA on the left\n",
    "plt.hist(df1['sil'], bins=bins, align='left',rwidth=0.5)\n",
    "plt.yscale('log')\n",
    "plt.title('sil')\n",
    "plt.show()"
   ]
  },
  {
   "cell_type": "code",
   "execution_count": null,
   "id": "b863caa8",
   "metadata": {},
   "outputs": [],
   "source": [
    "url2 = 'https://samples.adsbexchange.com/readsb-hist/2024/02/01/000005Z.json.gz'\n",
    "response2 = requests.get(url2)\n",
    "json_data2 = response2.json()\n",
    "df2 = pd.json_normalize(json_data2['aircraft'])\n",
    "url3 = 'https://samples.adsbexchange.com/readsb-hist/2024/02/01/000010Z.json.gz'\n",
    "response3 = requests.get(url3)\n",
    "json_data3 = response2.json()\n",
    "df3 = pd.json_normalize(json_data3['aircraft'])\n",
    "url4 = 'https://samples.adsbexchange.com/readsb-hist/2024/02/01/000015Z.json.gz'\n",
    "response4 = requests.get(url4)\n",
    "json_data4 = response2.json()\n",
    "df4 = pd.json_normalize(json_data4['aircraft'])"
   ]
  }
 ],
 "metadata": {
  "kernelspec": {
   "display_name": "Python 3 (ipykernel)",
   "language": "python",
   "name": "python3"
  },
  "language_info": {
   "codemirror_mode": {
    "name": "ipython",
    "version": 3
   },
   "file_extension": ".py",
   "mimetype": "text/x-python",
   "name": "python",
   "nbconvert_exporter": "python",
   "pygments_lexer": "ipython3",
   "version": "3.11.9"
  }
 },
 "nbformat": 4,
 "nbformat_minor": 5
}
