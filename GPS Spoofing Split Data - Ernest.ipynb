{
 "cells": [
  {
   "cell_type": "code",
   "execution_count": null,
   "id": "d691c7e4",
   "metadata": {},
   "outputs": [],
   "source": [
    "# !python -m venv venv\n",
    "# # !venv/scripts/activate\n",
    "# !pip install pandas numpy matplotlib seaborn plotly geopandas scipy scikit-learn statsmodels requests"
   ]
  },
  {
   "cell_type": "code",
   "execution_count": 19,
   "id": "c7ee0f9f",
   "metadata": {},
   "outputs": [],
   "source": [
    "# Data Manipulation\n",
    "import pandas as pd\n",
    "import numpy as np\n",
    "\n",
    "# Data Visualization\n",
    "import matplotlib.pyplot as plt\n",
    "import seaborn as sns\n",
    "import plotly.express as px\n",
    "import geopandas as gpd\n",
    "\n",
    "# Scientific Computing\n",
    "import scipy\n",
    "\n",
    "# Machine Learning\n",
    "import sklearn\n",
    "\n",
    "# Statistical Models\n",
    "import statsmodels.api as sm\n",
    "\n",
    "import requests\n",
    "import os\n",
    "\n",
    "pd.set_option('display.max_columns', None)"
   ]
  },
  {
   "cell_type": "code",
   "execution_count": 2,
   "id": "eef9ae55",
   "metadata": {
    "scrolled": false
   },
   "outputs": [
    {
     "data": {
      "text/plain": [
       "\"df = pd.read_json(os.path.join('aircraft_data_2024-02-01','aircraft_data_2024-02-01.json')\\ndf = pd.json_normalize(df['aircraft'])\\ndf\""
      ]
     },
     "execution_count": 2,
     "metadata": {},
     "output_type": "execute_result"
    }
   ],
   "source": [
    "'''df = pd.read_json(os.path.join('aircraft_data_2024-02-01','aircraft_data_2024-02-01.json')\n",
    "df = pd.json_normalize(df['aircraft'])\n",
    "df'''"
   ]
  },
  {
   "cell_type": "code",
   "execution_count": 21,
   "id": "a48ad6fe",
   "metadata": {
    "scrolled": false
   },
   "outputs": [
    {
     "data": {
      "image/png": "[encoded data removed]",
      "text/plain": [
       "<Figure size 640x480 with 1 Axes>"
      ]
     },
     "metadata": {},
     "output_type": "display_data"
    }
   ],
   "source": [
    "# for each timeslice of 5 minutes, find the aircraft-ping with nac_p, nac_v above a certain threshold, \n",
    "# and gpsOkBefore, rr_lat, rr_lon if these values are not empty\n",
    "# (each timeslice is 800kb)\n",
    "#\n",
    "# after filtering the timeslice, the filtered data should be much smaller say 10 kb\n",
    "#\n",
    "# define array of locations (squares) according to lat and lon limits\n",
    "# \n",
    "# loop through all timeslice-aircraft-ping and find location and append\n",
    "# \n",
    "# loop through all locations and run the data through the classification function to determine the color\n",
    "\n",
    "url = 'https://samples.adsbexchange.com/readsb-hist/2024/02/01/000000Z.json.gz'\n",
    "response = requests.get(url)\n",
    "json_data = response.json()\n",
    "df1 = pd.json_normalize(json_data['aircraft'])\n",
    "df1_filtered = df1[df1[['nac_p','nac_v']].notnull().all(1)]\n",
    "nacp_high = df1_filtered[df1_filtered['nac_p']<8]\n",
    "data = df1_filtered['nac_p']\n",
    "\n",
    "plt.hist(data,bins=12)\n",
    "plt.show()"
   ]
  },
  {
   "cell_type": "code",
   "execution_count": null,
   "id": "b863caa8",
   "metadata": {},
   "outputs": [],
   "source": [
    "url2 = 'https://samples.adsbexchange.com/readsb-hist/2024/02/01/000005Z.json.gz'\n",
    "response2 = requests.get(url2)\n",
    "json_data2 = response2.json()\n",
    "df2 = pd.json_normalize(json_data2['aircraft'])\n",
    "url3 = 'https://samples.adsbexchange.com/readsb-hist/2024/02/01/000010Z.json.gz'\n",
    "response3 = requests.get(url3)\n",
    "json_data3 = response2.json()\n",
    "df3 = pd.json_normalize(json_data3['aircraft'])\n",
    "url4 = 'https://samples.adsbexchange.com/readsb-hist/2024/02/01/000015Z.json.gz'\n",
    "response4 = requests.get(url4)\n",
    "json_data4 = response2.json()\n",
    "df4 = pd.json_normalize(json_data4['aircraft'])"
   ]
  }
 ],
 "metadata": {
  "kernelspec": {
   "display_name": "Python 3 (ipykernel)",
   "language": "python",
   "name": "python3"
  },
  "language_info": {
   "codemirror_mode": {
    "name": "ipython",
    "version": 3
   },
   "file_extension": ".py",
   "mimetype": "text/x-python",
   "name": "python",
   "nbconvert_exporter": "python",
   "pygments_lexer": "ipython3",
   "version": "3.11.6"
  }
 },
 "nbformat": 4,
 "nbformat_minor": 5
}
